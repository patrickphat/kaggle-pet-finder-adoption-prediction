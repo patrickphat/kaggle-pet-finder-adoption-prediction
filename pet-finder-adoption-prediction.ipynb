{
 "cells": [
  {
   "cell_type": "markdown",
   "metadata": {},
   "source": [
    "This is a Kaggle challenge. You can find it here : https://www.kaggle.com/c/petfinder-adoption-prediction"
   ]
  },
  {
   "cell_type": "code",
   "execution_count": null,
   "metadata": {
    "_uuid": "a0cfdf74bee2c4d9c10a384fce9cd2d510ec279c"
   },
   "outputs": [],
   "source": [
    "import numpy as np\n",
    "import pandas as pd\n",
    "import matplotlib.pyplot as plt\n",
    "import seaborn as sns\n",
    "import matplotlib.pyplot as plt\n",
    "import os"
   ]
  },
  {
   "cell_type": "code",
   "execution_count": null,
   "metadata": {
    "_uuid": "b0236c62faa9e2253b58f248e73d1ee47d4f125b"
   },
   "outputs": [],
   "source": [
    "# Load .csv to variables\n",
    "breeds = pd.read_csv('breed_labels.csv')\n",
    "colors = pd.read_csv('color_labels.csv')\n",
    "\n",
    "train = pd.read_csv('train.csv')\n",
    "test = pd.read_csv('test.csv')\n",
    "\n",
    "train['dstype']='train'\n",
    "test['dstype']='test'\n",
    "all=pd.concat([train,test])\n",
    "all=all.reset_index(drop=True)\n",
    "train.drop('Description',axis=1,inplace=True)\n",
    "test.drop('Description',axis=1,inplace=True)\n",
    "all.drop('Description',axis=1,inplace=True)"
   ]
  },
  {
   "cell_type": "code",
   "execution_count": null,
   "metadata": {
    "_uuid": "47442105503e7b6ba4984334412f836970465387"
   },
   "outputs": [],
   "source": [
    "# Fetch train dataset's infomation\n",
    "all.info()"
   ]
  },
  {
   "cell_type": "markdown",
   "metadata": {
    "_uuid": "07c9d0aa9dc80471b3d89348faef7bdd9f51a3ba"
   },
   "source": [
    "As we can see, we have a dataset with 14993 data points, over a thousand name & description are missing but those should be trivial :D "
   ]
  },
  {
   "cell_type": "code",
   "execution_count": null,
   "metadata": {
    "_uuid": "e40d2914ba0fcb284a4df4a1b9d07075f85f3ef5",
    "scrolled": true
   },
   "outputs": [],
   "source": [
    "train.head()"
   ]
  },
  {
   "cell_type": "markdown",
   "metadata": {
    "_uuid": "3fd67dc4792f82def54e8a12d8adecb21ab8c97a"
   },
   "source": [
    "# Adoption Speed"
   ]
  },
  {
   "cell_type": "code",
   "execution_count": null,
   "metadata": {
    "_uuid": "a07e85a9acf2684933640985790de7666b17c18c",
    "scrolled": false
   },
   "outputs": [],
   "source": [
    "%matplotlib inline\n",
    "data = train['AdoptionSpeed'].value_counts()\n",
    "data.plot('barh')\n",
    "for i,v in enumerate(data.values):\n",
    "    plt.gca().text(v+50,i-0.1,str(v),color='teal',fontweight='bold')"
   ]
  },
  {
   "cell_type": "markdown",
   "metadata": {
    "_uuid": "f1a35a0b4380dc1f9ef1a36f9efeee631c20d7a3"
   },
   "source": [
    "# Cat or dog"
   ]
  },
  {
   "cell_type": "code",
   "execution_count": null,
   "metadata": {
    "_uuid": "8676e00fd88db4f498df1013cb04b02540fe3497",
    "scrolled": true
   },
   "outputs": [],
   "source": [
    "# Change type 1 to dog, 2 to cat\n",
    "all['Type']=all['Type'].apply(lambda x:'Dog' if x==1 else 'Cat')\n",
    "all[all.Name==\"Brisco\"]"
   ]
  },
  {
   "cell_type": "code",
   "execution_count": null,
   "metadata": {
    "_uuid": "fb075dab253c187acf450da3804f2d614b56f614"
   },
   "outputs": [],
   "source": [
    "plt.figure(figsize=(5,3))\n",
    "sns.countplot(x='dstype',data=all,hue='Type')\n",
    "plt.title('Amount of cats and dogs in test set and train set')"
   ]
  },
  {
   "cell_type": "markdown",
   "metadata": {
    "_uuid": "4fa286ce0bb9ef4836033db4570edf0100b481e2"
   },
   "source": [
    "# Age"
   ]
  },
  {
   "cell_type": "code",
   "execution_count": null,
   "metadata": {
    "_uuid": "b50fe14eae2bd479a14fe7241e1ec50c5eb83f24",
    "scrolled": false
   },
   "outputs": [],
   "source": [
    "# See the age of dogs & cats\n",
    "train.Age.value_counts().head(10)"
   ]
  },
  {
   "cell_type": "markdown",
   "metadata": {
    "_uuid": "0d658d4474fab1e6b653cab9b0c0ac0ad2caefe4"
   },
   "source": [
    " Mostly pets are young, there are pet with the age equal to multiples of 12. Maybe the owners didn't really bother with ages\n"
   ]
  },
  {
   "cell_type": "code",
   "execution_count": null,
   "metadata": {
    "_uuid": "b97f91fd407ad5e4f4c15a365b5dabac2a2e2919",
    "scrolled": false
   },
   "outputs": [],
   "source": [
    "plt.figure(figsize=(10, 6))\n",
    "sns.violinplot(x=\"AdoptionSpeed\", y=\"Age\", hue=\"Type\", data=train)\n",
    "plt.title('AdoptionSpeed by Type and age')"
   ]
  },
  {
   "cell_type": "markdown",
   "metadata": {
    "_uuid": "cbc775a1ec61037b061203593322b499e34bcb69"
   },
   "source": [
    "The more young the pets are, the more likely they are getting adopted"
   ]
  },
  {
   "cell_type": "markdown",
   "metadata": {
    "_uuid": "4dde8affa9d99d954404bdc3abd152b2886a0df7"
   },
   "source": [
    "# Name"
   ]
  },
  {
   "cell_type": "markdown",
   "metadata": {
    "_uuid": "4fa208376339538d65ed7a2a4e2a1eb1092cddc3"
   },
   "source": [
    "Maybe pets with no names are less likely to get adopted because they haven't received loves from the owner (by the appearance maybe). Lets find out if it's true"
   ]
  },
  {
   "cell_type": "code",
   "execution_count": null,
   "metadata": {
    "_uuid": "95bcad6d62792520f221d67d8d11f3e0d3969976"
   },
   "outputs": [],
   "source": [
    "\n",
    "# Set all cells in column 'Name' to 1 if there is 'no name' or blank (null)\n",
    "for i,value in enumerate(all.Name):\n",
    "    if(str(value).lower().find('no name')==0 ):\n",
    "        all.at[i,'Name']=1\n",
    "for i in all[all['Name'].isnull()].index:\n",
    "    all.at[i,'Name']=1\n",
    "# Set the remaining cells to 0\n",
    "for i,value in enumerate(all.Name):\n",
    "    if(str(value)!= '1' ):\n",
    "        all.at[i,'Name']=0\n",
    "# Rename Name to No-Name\n",
    "all.rename(columns={'Name':'NoName'},inplace=True)\n",
    "\n"
   ]
  },
  {
   "cell_type": "code",
   "execution_count": null,
   "metadata": {
    "_uuid": "c38b6a11ff68377479c9b847655706e01b7aad2e"
   },
   "outputs": [],
   "source": [
    "ax = sns.barplot(x=\"AdoptionSpeed\", y=\"AdoptionSpeed\", data=all[all.NoName==1], estimator=lambda x: len(x) / len(all[all.NoName==1]) * 100)\n",
    "ax.set(ylabel=\"Percent\")\n",
    "ax.set_title('Adoption Speed for no names')"
   ]
  },
  {
   "cell_type": "code",
   "execution_count": null,
   "metadata": {
    "_uuid": "27b4e0a0086a86e2501c363379e33c02d4e7837b"
   },
   "outputs": [],
   "source": [
    "ax = sns.barplot(x=\"AdoptionSpeed\", y=\"AdoptionSpeed\", data=all[all.NoName==0], estimator=lambda x: len(x) / len(all[all.NoName==0]) * 100)\n",
    "ax.set(ylabel=\"Percent\")\n",
    "ax.set_title('Adoption Speed for named pets')"
   ]
  },
  {
   "cell_type": "markdown",
   "metadata": {
    "_uuid": "4f90fd41070c1b5a5697979bfabccd509779adc0"
   },
   "source": [
    "Looks like I was right! Not-named pets are less likely to get adopted compared to named pets by 5% :D"
   ]
  },
  {
   "cell_type": "markdown",
   "metadata": {
    "_uuid": "b7e07fb45e7ccd8b3f746d05e2c9098680d1da94"
   },
   "source": [
    "# Quantity"
   ]
  },
  {
   "cell_type": "code",
   "execution_count": null,
   "metadata": {
    "_uuid": "2bf4cc9b3ce6a05078a0d21fe7f06e83e36b6d09"
   },
   "outputs": [],
   "source": [
    "all.groupby('Quantity').agg(['count','mean'])['AdoptionSpeed']"
   ]
  },
  {
   "cell_type": "markdown",
   "metadata": {
    "_uuid": "28b5a957b5700dbf43e2708338a4e5b026eca49d"
   },
   "source": [
    "The greater amount of pets in a group (an advertisement) the less likely of them to get adopted. Maybe they come in a group and are not treated as valuable as a single one"
   ]
  },
  {
   "cell_type": "markdown",
   "metadata": {
    "_uuid": "c8df29d5e8ca71c1e9e032005e8a6ea6a80fe683"
   },
   "source": [
    "# Breed"
   ]
  },
  {
   "cell_type": "code",
   "execution_count": null,
   "metadata": {
    "_uuid": "1ac7e1724fbca419f3bd67a27c158c8ef0e1884b"
   },
   "outputs": [],
   "source": [
    "breeds[breeds.BreedName=='Mixed Breed']"
   ]
  },
  {
   "cell_type": "markdown",
   "metadata": {
    "_uuid": "979f94b8e0f393c52bcdf865bec176801f745072"
   },
   "source": [
    "Sometimes they write in Breed2 to indicate Mixed Breed, sometimes they just straight up write BreedID=307 for indicating Mixed Breed"
   ]
  },
  {
   "cell_type": "code",
   "execution_count": null,
   "metadata": {
    "_uuid": "063051f6baf2fe5cd6779358ddc5f3354a7941d0"
   },
   "outputs": [],
   "source": [
    "train['Pure']=0\n",
    "train.loc[train['Breed2']==0,'Pure']=1\n",
    "train.loc[train['Breed1']==307,'Pure']=0\n",
    "test['Pure']=0\n",
    "test.loc[test['Breed2']==0,'Pure']=1\n",
    "test.loc[test['Breed1']==307,'Pure']=0\n",
    "print('-Train:')\n",
    "print('There are',len(train[train.Pure==1]), 'Pure Breed',len(train[train.Pure==1])/len(train)*100,\"%\")\n",
    "print('There are',len(train[train.Pure==0]), 'Mixed Breed',len(train[train.Pure==0])/len(train)*100,\"%\")\n",
    "print('-Test:')\n",
    "print('There are',len(test[test.Pure==1]), 'Pure Breed',len(test[test.Pure==1])/len(test)*100,\"%\")\n",
    "print('There are',len(test[test.Pure==0]), 'Mixed Breed',len(test[test.Pure==0])/len(test)*100,\"%\")\n",
    "all['Pure']=0\n",
    "all.loc[all['Breed2']==0,'Pure']=1\n",
    "all.loc[all['Breed1']==307,'Pure']=0\n",
    "all"
   ]
  },
  {
   "cell_type": "code",
   "execution_count": null,
   "metadata": {
    "_uuid": "308a781ff23df56180bf6a5a6b66ef9bcba215ec"
   },
   "outputs": [],
   "source": [
    "train[train.Pure==1]['AdoptionSpeed'].mean()"
   ]
  },
  {
   "cell_type": "code",
   "execution_count": null,
   "metadata": {
    "_uuid": "1e0023ea496f1d104a8a34f0711c3b86f82870a6"
   },
   "outputs": [],
   "source": [
    "train[train.Pure==0]['AdoptionSpeed'].mean()"
   ]
  },
  {
   "cell_type": "markdown",
   "metadata": {
    "_uuid": "1b813c87ae02148b70fd6c02ace191c2a92cda02"
   },
   "source": [
    "Pure Breed are likely to get adopted quicker than mixed breed"
   ]
  },
  {
   "cell_type": "markdown",
   "metadata": {
    "_uuid": "53371cd2630dfed1b653e19cc1f7060a85ac04d3"
   },
   "source": [
    "# Gender"
   ]
  },
  {
   "cell_type": "code",
   "execution_count": null,
   "metadata": {
    "_uuid": "6e4e3bf135819a6219e3960e43937a499b9b0a10"
   },
   "outputs": [],
   "source": [
    "sns.factorplot('Type', col='Gender', data=all, kind='count', hue='dstype');\n",
    "plt.subplots_adjust(top=0.8)\n",
    "plt.suptitle('Count of cats and dogs in train and test set by gender');"
   ]
  },
  {
   "cell_type": "markdown",
   "metadata": {
    "_uuid": "7860a8a81eb6e0b8897b64372e829a32acacffe3"
   },
   "source": [
    "There are more Female in the data"
   ]
  },
  {
   "cell_type": "code",
   "execution_count": null,
   "metadata": {
    "_uuid": "aff1001554b1472070c7ba7a7d0344c1641d80b0"
   },
   "outputs": [],
   "source": [
    "sns.countplot(x='AdoptionSpeed',data=all,hue='Gender')"
   ]
  },
  {
   "cell_type": "code",
   "execution_count": null,
   "metadata": {
    "_uuid": "4920da064c29aa1305a90a263650e33837cdea37"
   },
   "outputs": [],
   "source": [
    "#One Hot Encoder\n",
    "from sklearn.preprocessing import LabelBinarizer\n",
    "\n",
    "LaBi = LabelBinarizer()\n",
    "\n",
    "Breed1_lb=LaBi.fit_transform(all.Breed1)\n",
    "Breed2_lb=LaBi.fit_transform(all.Breed2)\n",
    "Type_lb=LaBi.fit_transform(all.Type)\n",
    "Gender_lb=LaBi.fit_transform(all.Gender)\n",
    "Vaccinated_lb=LaBi.fit_transform(all.Vaccinated)\n",
    "Dewormed_lb = LaBi.fit_transform(all.Dewormed)\n",
    "FurLength_lb = LaBi.fit_transform(all.FurLength)\n",
    "Sterilized_lb = LaBi.fit_transform(all.Sterilized)\n",
    "Health_lb = LaBi.fit_transform(all.Health)\n",
    "Color1_lb = LaBi.fit_transform(all.Color1)\n",
    "Color2_lb = LaBi.fit_transform(all.Color2)\n",
    "Color3_lb = LaBi.fit_transform(all.Color3)\n",
    "allLB=np.append(Breed1_lb,Breed2_lb,axis=1)\n",
    "allLB=np.append(allLB,Type_lb,axis=1)\n",
    "allLB=np.append(allLB,Gender_lb,axis=1)\n",
    "allLB=np.append(allLB,Vaccinated_lb,axis=1)\n",
    "allLB=np.append(allLB,Dewormed_lb,axis=1)\n",
    "#allLB=np.append(allLB,FurLength_lb,axis=1)\n",
    "allLB=np.append(allLB,Sterilized_lb,axis=1)\n",
    "allLB=np.append(allLB,Health_lb,axis=1)\n",
    "allLB=np.append(allLB,Color1_lb,axis=1)\n",
    "allLB=np.append(allLB,Color2_lb,axis=1)\n",
    "#allLB=np.append(allLB,Color3_lb,axis=1)\n",
    "allLB.shape"
   ]
  },
  {
   "cell_type": "code",
   "execution_count": null,
   "metadata": {
    "_uuid": "29915a8a5af1b569e8f683371ded57f14d38a056"
   },
   "outputs": [],
   "source": [
    "all_mat=np.append(allLB,all[['Age','NoName','Pure','Quantity']].values.reshape(18941,4),axis=1)\n",
    "all_mat=np.append(all_mat,all['AdoptionSpeed'].values.reshape(18941,1),axis=1)\n",
    "train_x=all_mat[:14993,:-1]\n",
    "train_y=all_mat[:14993,-1]\n",
    "test_x=all_mat[14993:,:-1]\n",
    "test_y=all_mat[14993:,-1]\n",
    "all_mat.shape"
   ]
  },
  {
   "cell_type": "code",
   "execution_count": null,
   "metadata": {
    "_uuid": "48795690aadcfdfdf7485ab65d1c361506102c4e"
   },
   "outputs": [],
   "source": [
    "submission=pd.read_csv('sample_submission.csv')\n",
    "submission.head()"
   ]
  },
  {
   "cell_type": "code",
   "execution_count": null,
   "metadata": {
    "_uuid": "fb2e05712492098a35849c1f23fe58bd2bd48fe7"
   },
   "outputs": [],
   "source": [
    "from sklearn.model_selection import train_test_split\n",
    "train_x,cv_x,train_y,cv_y=train_test_split(train_x,train_y,test_size=0.2)"
   ]
  },
  {
   "cell_type": "markdown",
   "metadata": {
    "_uuid": "f6ea5940698ee9865a45e946d9875ceb9e554a65"
   },
   "source": [
    "# Logistic Regression"
   ]
  },
  {
   "cell_type": "code",
   "execution_count": null,
   "metadata": {
    "_uuid": "1b16764b25aeb264e5aff08d8d24306f7ae87399"
   },
   "outputs": [],
   "source": [
    "import sklearn\n",
    "from sklearn.preprocessing import scale \n",
    "from sklearn.linear_model import LogisticRegression\n",
    "from sklearn import metrics\n",
    "from sklearn import preprocessing"
   ]
  },
  {
   "cell_type": "code",
   "execution_count": null,
   "metadata": {
    "_uuid": "c4fc017c941710b1de82b5a4b631ac9505c29412"
   },
   "outputs": [],
   "source": [
    "train.values[:,:-2]"
   ]
  },
  {
   "cell_type": "code",
   "execution_count": null,
   "metadata": {
    "_uuid": "3d020b524945b25934edcc98138b72633a9a3a19"
   },
   "outputs": [],
   "source": [
    "train.columns"
   ]
  },
  {
   "cell_type": "code",
   "execution_count": null,
   "metadata": {
    "_uuid": "e7bb71016dd664f299deff0fda352b0461ac3405"
   },
   "outputs": [],
   "source": [
    "LogReg = LogisticRegression()\n",
    "LogReg.fit(train_x, list(train_y))\n"
   ]
  },
  {
   "cell_type": "code",
   "execution_count": null,
   "metadata": {
    "_uuid": "acd45d355234f247ccb0bb63ce3e7e920b2fe4b8"
   },
   "outputs": [],
   "source": [
    "y_pred = LogReg.predict(cv_x)"
   ]
  },
  {
   "cell_type": "code",
   "execution_count": null,
   "metadata": {
    "_uuid": "507b1f775881cd4bbc35bbdd35bfd01845315f1c"
   },
   "outputs": [],
   "source": [
    "y_pred"
   ]
  },
  {
   "cell_type": "code",
   "execution_count": null,
   "metadata": {
    "_uuid": "3a267114b5b92cafd2f2f62f03d76592d2f022f9"
   },
   "outputs": [],
   "source": [
    "# Metrics\n",
    "from sklearn.metrics import accuracy_score\n",
    "accuracy = accuracy_score(list(cv_y),y_pred)\n",
    "accuracy"
   ]
  },
  {
   "cell_type": "code",
   "execution_count": null,
   "metadata": {
    "_uuid": "d395d6bf38997fd9c57265b3f4c4f79a8176d73d"
   },
   "outputs": [],
   "source": [
    "#y_test_pred=LogReg.predict(test_x)\n"
   ]
  },
  {
   "cell_type": "code",
   "execution_count": null,
   "metadata": {
    "_uuid": "c80b69468111b7354025c2e7c29fd7deaa84c5ab"
   },
   "outputs": [],
   "source": [
    "# Get predicted array into dataframe\n",
    "#for i,value in enumerate(y_test_pred):\n",
    "#    submission.set_value(i,'AdoptionSpeed',value)\n",
    "#submission.tail()"
   ]
  },
  {
   "cell_type": "code",
   "execution_count": null,
   "metadata": {
    "_uuid": "a8cd65d5e83a60d5b62ca642d3ec49f0d871435d"
   },
   "outputs": [],
   "source": [
    "# Import into CSV\n",
    "#submission.to_csv('submission.csv', index=False)"
   ]
  },
  {
   "cell_type": "markdown",
   "metadata": {
    "_uuid": "c495e57a8df48df4a6e81b4737143d9447f0b0e0"
   },
   "source": [
    "# XGBoost"
   ]
  },
  {
   "cell_type": "code",
   "execution_count": null,
   "metadata": {
    "_uuid": "60c843ae6115acabb69dd8c9dd10d5ee525681d4"
   },
   "outputs": [],
   "source": [
    "from xgboost import XGBClassifier"
   ]
  },
  {
   "cell_type": "code",
   "execution_count": null,
   "metadata": {
    "_uuid": "4dfade8c1e5588a9c912b5f90b3f77c35c72636f"
   },
   "outputs": [],
   "source": [
    "xgb_model = XGBClassifier()\n",
    "xgb_model.fit(train_x, train_y)"
   ]
  },
  {
   "cell_type": "code",
   "execution_count": null,
   "metadata": {
    "_uuid": "209d8ae23b108a56aa55295ac649f980f174fcb8"
   },
   "outputs": [],
   "source": [
    "# Predict\n",
    "prediction = xgb_model.predict(cv_x)"
   ]
  },
  {
   "cell_type": "code",
   "execution_count": null,
   "metadata": {
    "_uuid": "b900e313a2e4bc364ea183cfefd53176b9628f3b"
   },
   "outputs": [],
   "source": [
    "# Evaluate\n",
    "from sklearn.metrics import accuracy_score\n",
    "accuracy = accuracy_score(list(cv_y),list(prediction))\n",
    "accuracy"
   ]
  },
  {
   "cell_type": "code",
   "execution_count": null,
   "metadata": {
    "_uuid": "cd48dca64c960d8e7e2b553e9abd7a2ee15b3430"
   },
   "outputs": [],
   "source": [
    "#y_pred = xgb_model.predict(test_x)"
   ]
  },
  {
   "cell_type": "code",
   "execution_count": null,
   "metadata": {
    "_uuid": "188948311dcaf00bbe08b1ffb328fd522d2d418a"
   },
   "outputs": [],
   "source": [
    "#for i,value in enumerate(y_pred):\n",
    "#    submission.set_value(i,'AdoptionSpeed',value)\n",
    "#submission.to_csv('submission.csv', index=False)\n",
    "#y_pred[-1]"
   ]
  },
  {
   "cell_type": "code",
   "execution_count": null,
   "metadata": {
    "_uuid": "34760f12af346b09865b0f25aea60fd1b8f9b425"
   },
   "outputs": [],
   "source": [
    "#y_pred"
   ]
  },
  {
   "cell_type": "code",
   "execution_count": null,
   "metadata": {
    "_uuid": "f048069b4d523e7cb7b7d95596c097a52f6dc5fd"
   },
   "outputs": [],
   "source": [
    "#submission.head()"
   ]
  },
  {
   "cell_type": "markdown",
   "metadata": {
    "_uuid": "5c0433a53d5e4bab85fb38290f54e11bb94a5d9b"
   },
   "source": [
    "# Deep Learning"
   ]
  },
  {
   "cell_type": "code",
   "execution_count": null,
   "metadata": {
    "_uuid": "7ef683c578afa6ac01023599d142784ee8ae6627"
   },
   "outputs": [],
   "source": [
    "from keras.models import Sequential\n",
    "from keras.layers import Dense\n",
    "import keras\n",
    "from keras.layers import Dropout"
   ]
  },
  {
   "cell_type": "code",
   "execution_count": null,
   "metadata": {
    "_uuid": "4cdb2b9ab45955d3dd2677031b8cbf9f56a5a63d"
   },
   "outputs": [],
   "source": [
    "model = Sequential()\n",
    "model.add(Dense(600, activation='relu',  kernel_initializer='normal',input_dim=train_x.shape[1]))\n",
    "model.add(Dropout(0.2))\n",
    "model.add(Dense(5, activation='softmax'))\n",
    "mcp = keras.callbacks.ModelCheckpoint(\"model.h5\", monitor=\"val_acc\",  save_best_only=True, save_weights_only=False)"
   ]
  },
  {
   "cell_type": "code",
   "execution_count": null,
   "metadata": {
    "_uuid": "899b7e14c173bc8b3df52965fce73909a45809f6"
   },
   "outputs": [],
   "source": [
    "model.compile(loss='categorical_crossentropy', optimizer='adam', metrics=['accuracy'])\n"
   ]
  },
  {
   "cell_type": "code",
   "execution_count": null,
   "metadata": {
    "_uuid": "ff4af4a30df05af145b9fc4311e430f5d5b5dac6"
   },
   "outputs": [],
   "source": [
    "train_y_lb = LaBi.fit_transform(list(train_y))\n",
    "cv_y_lb = LaBi.fit_transform(list(cv_y))"
   ]
  },
  {
   "cell_type": "code",
   "execution_count": null,
   "metadata": {
    "_uuid": "c01ed70c93cb07671ec4738117f8d020dda31f3d"
   },
   "outputs": [],
   "source": [
    "model.fit(train_x, train_y_lb, epochs=10, validation_data=(cv_x,cv_y_lb), callbacks=[mcp], batch_size=16)"
   ]
  },
  {
   "cell_type": "code",
   "execution_count": null,
   "metadata": {
    "_uuid": "c5d3ad830a9295d9d8ec71958fd6388d5dfb3ae0"
   },
   "outputs": [],
   "source": [
    "from keras.models import load_model\n",
    "best_model = load_model(\"model.h5\")\n"
   ]
  },
  {
   "cell_type": "code",
   "execution_count": null,
   "metadata": {
    "_uuid": "0a4bfa72b37789799ef10600f7eca272fb3d81bc",
    "scrolled": true
   },
   "outputs": [],
   "source": [
    "#Evaluate\n",
    "score = best_model.evaluate(cv_x, cv_y_lb, verbose=0)\n",
    "print('Test loss:', score[0])\n",
    "print('Test accuracy:', score[1])"
   ]
  },
  {
   "cell_type": "code",
   "execution_count": null,
   "metadata": {
    "_uuid": "1de29dec00b3e3eb43dda20476273394ec0e1d59"
   },
   "outputs": [],
   "source": [
    "y_pred=best_model.predict(test_x)\n",
    "y_pred[0:20]\n",
    "import operator\n",
    "# Y_list: from one-hot y_pred to choosing output based index. e.g : if [0 0 1] then 2 or if [0 1 0] then 1\n",
    "y_list=[]\n",
    "for i in y_pred:\n",
    "    index, value = max(enumerate(i), key=operator.itemgetter(1))\n",
    "    y_list.append(index)\n",
    "y_pred=best_model.predict(test_x)\n",
    "y_list"
   ]
  },
  {
   "cell_type": "code",
   "execution_count": null,
   "metadata": {
    "_uuid": "486563159a7a49194a3f87fb213273b61b070c82"
   },
   "outputs": [],
   "source": [
    "for i,value in enumerate(y_list):\n",
    "        submission.set_value(i,'AdoptionSpeed',value)\n",
    "    \n",
    "submission.to_csv('submission.csv', index=False)"
   ]
  },
  {
   "cell_type": "code",
   "execution_count": null,
   "metadata": {
    "_uuid": "7f2b8ac405a52f608534afd616ddaa252a93e8f5"
   },
   "outputs": [],
   "source": [
    "submission.head()"
   ]
  },
  {
   "cell_type": "code",
   "execution_count": null,
   "metadata": {
    "_uuid": "e7c2bcb38cebf4217ba70b587a2a1546215cd15b"
   },
   "outputs": [],
   "source": [
    "train_x.shape"
   ]
  },
  {
   "cell_type": "code",
   "execution_count": null,
   "metadata": {
    "_uuid": "ca384249f97d2a46e7d811fbbeffa23e1ac35b70"
   },
   "outputs": [],
   "source": [
    "train_y_lb.shape"
   ]
  },
  {
   "cell_type": "code",
   "execution_count": null,
   "metadata": {
    "_uuid": "b35e2ad5034dec9512d825b906460656b934c030"
   },
   "outputs": [],
   "source": []
  }
 ],
 "metadata": {
  "kernelspec": {
   "display_name": "Python 3",
   "language": "python",
   "name": "python3"
  },
  "language_info": {
   "codemirror_mode": {
    "name": "ipython",
    "version": 3
   },
   "file_extension": ".py",
   "mimetype": "text/x-python",
   "name": "python",
   "nbconvert_exporter": "python",
   "pygments_lexer": "ipython3",
   "version": "3.7.0"
  }
 },
 "nbformat": 4,
 "nbformat_minor": 1
}
